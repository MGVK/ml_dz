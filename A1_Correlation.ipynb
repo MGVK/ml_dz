{
 "cells": [
  {
   "cell_type": "markdown",
   "metadata": {},
   "source": [
    "<div style=\"font-size:18pt; padding-top:20px; text-align:center\">ЗАДАНИЕ. <b>Корреляция</b></div><hr>\n",
    "<div style=\"text-align:right;\">Папулин С.Ю. <span style=\"font-style: italic;font-weight: bold;\">(papulin.study@mail.ru)</span></div>"
   ]
  },
  {
   "cell_type": "markdown",
   "metadata": {},
   "source": [
    "<a name=\"0\"></a>\n",
    "<div><span style=\"font-size:14pt; font-weight:bold\">Содержание</span>\n",
    "    <ol>\n",
    "        <li><a href=\"#1\">Варианты</a></li>\n",
    "        <li><a href=\"#2\">Задание</a></li>\n",
    "    </ol>\n",
    "</div>"
   ]
  },
  {
   "cell_type": "markdown",
   "metadata": {},
   "source": [
    "Подключение стилей оформления"
   ]
  },
  {
   "cell_type": "code",
   "execution_count": 1,
   "metadata": {},
   "outputs": [
    {
     "data": {
      "text/html": [
       "<link href=\"css/style.css\" rel=\"stylesheet\" type=\"text/css\">\n"
      ],
      "text/plain": [
       "<IPython.core.display.HTML object>"
      ]
     },
     "metadata": {},
     "output_type": "display_data"
    }
   ],
   "source": [
    "%%html\n",
    "<link href=\"css/style.css\" rel=\"stylesheet\" type=\"text/css\">"
   ]
  },
  {
   "cell_type": "markdown",
   "metadata": {},
   "source": [
    "<a name=\"1\"></a>\n",
    "<div style=\"display:table; width:100%; padding-top:10px; padding-bottom:10px; border-bottom:1px solid lightgrey\">\n",
    "    <div style=\"display:table-row\">\n",
    "        <div style=\"display:table-cell; width:80%; font-size:14pt; font-weight:bold\">1. Варианты</div>\n",
    "    \t<div style=\"display:table-cell; width:20%; text-align:center; background-color:whitesmoke; border:1px solid lightgrey\"><a href=\"#0\">К содержанию</a></div>\n",
    "    </div>\n",
    "</div>"
   ]
  },
  {
   "cell_type": "markdown",
   "metadata": {},
   "source": [
    "<div class=\"msg-block msg-warning\">\n",
    "  <p class=\"msg-text-warn\">Варианты могут не совпадать с предыдущими ДЗ</p>\n",
    "</div>"
   ]
  },
  {
   "cell_type": "markdown",
   "metadata": {},
   "source": [
    "<p>Чтобы узнать свой вариант, введите Вашу фамилию в соответствующее поле ниже и запустите ячейку:</p>"
   ]
  },
  {
   "cell_type": "code",
   "execution_count": 1,
   "metadata": {},
   "outputs": [
    {
     "name": "stdout",
     "output_type": "stream",
     "text": [
      "Ваш вариант -  1\n"
     ]
    }
   ],
   "source": [
    "surname = \"Баяндин\" #Ваша фамилия\n",
    "\n",
    "alp = 'абвгдеёжзийклмнопрстуфхцчшщъыьэюя'\n",
    "w = [1, 42, 21, 21, 34,  6, 44, 26, 18, 44, 38, 26, 14, 43,  4, 49, 45,\n",
    "        7, 42, 29,  4,  9, 36, 34, 31, 29,  5, 30,  4, 19, 28, 25, 33]\n",
    "d = dict(zip(alp, w))\n",
    "variant =  sum([d[el] for el in surname.lower()]) % 3 + 1\n",
    "print(\"Ваш вариант - \", variant)"
   ]
  },
  {
   "cell_type": "markdown",
   "metadata": {},
   "source": [
    "<a name=\"2\"></a>\n",
    "<div style=\"display:table; width:100%; padding-top:10px; padding-bottom:10px; border-bottom:1px solid lightgrey\">\n",
    "    <div style=\"display:table-row\">\n",
    "        <div style=\"display:table-cell; width:80%; font-size:14pt; font-weight:bold\">2. Задание</div>\n",
    "    \t<div style=\"display:table-cell; width:20%; text-align:center; background-color:whitesmoke; border:1px solid lightgrey\"><a href=\"#0\">К содержанию</a></div>\n",
    "    </div>\n",
    "</div>"
   ]
  },
  {
   "cell_type": "code",
   "execution_count": 2,
   "metadata": {},
   "outputs": [],
   "source": [
    "import pandas as pd"
   ]
  },
  {
   "cell_type": "code",
   "execution_count": 3,
   "metadata": {},
   "outputs": [
    {
     "data": {
      "text/html": [
       "<div>\n",
       "<style scoped>\n",
       "    .dataframe tbody tr th:only-of-type {\n",
       "        vertical-align: middle;\n",
       "    }\n",
       "\n",
       "    .dataframe tbody tr th {\n",
       "        vertical-align: top;\n",
       "    }\n",
       "\n",
       "    .dataframe thead th {\n",
       "        text-align: right;\n",
       "    }\n",
       "</style>\n",
       "<table border=\"1\" class=\"dataframe\">\n",
       "  <thead>\n",
       "    <tr style=\"text-align: right;\">\n",
       "      <th></th>\n",
       "      <th>high_GPA</th>\n",
       "      <th>math_SAT</th>\n",
       "      <th>verb_SAT</th>\n",
       "      <th>comp_GPA</th>\n",
       "      <th>univ_GPA</th>\n",
       "    </tr>\n",
       "  </thead>\n",
       "  <tbody>\n",
       "    <tr>\n",
       "      <th>0</th>\n",
       "      <td>3.45</td>\n",
       "      <td>643</td>\n",
       "      <td>589</td>\n",
       "      <td>3.76</td>\n",
       "      <td>3.52</td>\n",
       "    </tr>\n",
       "    <tr>\n",
       "      <th>1</th>\n",
       "      <td>2.78</td>\n",
       "      <td>558</td>\n",
       "      <td>512</td>\n",
       "      <td>2.87</td>\n",
       "      <td>2.91</td>\n",
       "    </tr>\n",
       "    <tr>\n",
       "      <th>2</th>\n",
       "      <td>2.52</td>\n",
       "      <td>583</td>\n",
       "      <td>503</td>\n",
       "      <td>2.54</td>\n",
       "      <td>2.40</td>\n",
       "    </tr>\n",
       "    <tr>\n",
       "      <th>3</th>\n",
       "      <td>3.67</td>\n",
       "      <td>685</td>\n",
       "      <td>602</td>\n",
       "      <td>3.83</td>\n",
       "      <td>3.47</td>\n",
       "    </tr>\n",
       "    <tr>\n",
       "      <th>4</th>\n",
       "      <td>3.24</td>\n",
       "      <td>592</td>\n",
       "      <td>538</td>\n",
       "      <td>3.29</td>\n",
       "      <td>3.47</td>\n",
       "    </tr>\n",
       "  </tbody>\n",
       "</table>\n",
       "</div>"
      ],
      "text/plain": [
       "   high_GPA  math_SAT  verb_SAT  comp_GPA  univ_GPA\n",
       "0      3.45       643       589      3.76      3.52\n",
       "1      2.78       558       512      2.87      2.91\n",
       "2      2.52       583       503      2.54      2.40\n",
       "3      3.67       685       602      3.83      3.47\n",
       "4      3.24       592       538      3.29      3.47"
      ]
     },
     "execution_count": 3,
     "metadata": {},
     "output_type": "execute_result"
    }
   ],
   "source": [
    "import pandas as pd\n",
    "filePath = r\"data/A1_Correlation/grades.csv\"\n",
    "\n",
    "df = pd.read_csv(filePath,delimiter=\" \")\n",
    "df.head()\n"
   ]
  },
  {
   "cell_type": "markdown",
   "metadata": {},
   "source": [
    "<p><b><i>Вариант 1</i></b></p>"
   ]
  },
  {
   "cell_type": "code",
   "execution_count": 45,
   "metadata": {},
   "outputs": [
    {
     "data": {
      "text/html": [
       "<div>\n",
       "<style scoped>\n",
       "    .dataframe tbody tr th:only-of-type {\n",
       "        vertical-align: middle;\n",
       "    }\n",
       "\n",
       "    .dataframe tbody tr th {\n",
       "        vertical-align: top;\n",
       "    }\n",
       "\n",
       "    .dataframe thead th {\n",
       "        text-align: right;\n",
       "    }\n",
       "</style>\n",
       "<table border=\"1\" class=\"dataframe\">\n",
       "  <thead>\n",
       "    <tr style=\"text-align: right;\">\n",
       "      <th></th>\n",
       "      <th>X</th>\n",
       "      <th>Y</th>\n",
       "      <th>X*Y</th>\n",
       "      <th>X/Y</th>\n",
       "      <th>X-Y</th>\n",
       "    </tr>\n",
       "  </thead>\n",
       "  <tbody>\n",
       "    <tr>\n",
       "      <th>X</th>\n",
       "      <td>1.000000</td>\n",
       "      <td>0.662784</td>\n",
       "      <td>0.878203</td>\n",
       "      <td>-0.164430</td>\n",
       "      <td>0.999980</td>\n",
       "    </tr>\n",
       "    <tr>\n",
       "      <th>Y</th>\n",
       "      <td>0.662784</td>\n",
       "      <td>1.000000</td>\n",
       "      <td>0.939232</td>\n",
       "      <td>-0.841363</td>\n",
       "      <td>0.658081</td>\n",
       "    </tr>\n",
       "    <tr>\n",
       "      <th>X*Y</th>\n",
       "      <td>0.878203</td>\n",
       "      <td>0.939232</td>\n",
       "      <td>1.000000</td>\n",
       "      <td>-0.608536</td>\n",
       "      <td>0.875198</td>\n",
       "    </tr>\n",
       "    <tr>\n",
       "      <th>X/Y</th>\n",
       "      <td>-0.164430</td>\n",
       "      <td>-0.841363</td>\n",
       "      <td>-0.608536</td>\n",
       "      <td>1.000000</td>\n",
       "      <td>-0.158301</td>\n",
       "    </tr>\n",
       "    <tr>\n",
       "      <th>X-Y</th>\n",
       "      <td>0.999980</td>\n",
       "      <td>0.658081</td>\n",
       "      <td>0.875198</td>\n",
       "      <td>-0.158301</td>\n",
       "      <td>1.000000</td>\n",
       "    </tr>\n",
       "  </tbody>\n",
       "</table>\n",
       "</div>"
      ],
      "text/plain": [
       "            X         Y       X*Y       X/Y       X-Y\n",
       "X    1.000000  0.662784  0.878203 -0.164430  0.999980\n",
       "Y    0.662784  1.000000  0.939232 -0.841363  0.658081\n",
       "X*Y  0.878203  0.939232  1.000000 -0.608536  0.875198\n",
       "X/Y -0.164430 -0.841363 -0.608536  1.000000 -0.158301\n",
       "X-Y  0.999980  0.658081  0.875198 -0.158301  1.000000"
      ]
     },
     "execution_count": 45,
     "metadata": {},
     "output_type": "execute_result"
    }
   ],
   "source": [
    "#X - math_SAT (оценка за математическую часть теста SAT (тест для поступления в бакалавриат)\n",
    "X = df.math_SAT\n",
    "Y = df.univ_GPA # (оценка в университете)\n",
    "\n",
    "# ndf = pd.DataFrame([X,Y,X*Y,X/Y,X-Y],columns=['X','Y','X*Y','X/Y','X-Y'])\n",
    "# ndf\n",
    "# ndf = pd.DataFrame([X,Y],columns=['X','Y'])\n",
    "# ndf\n",
    "\n",
    "frame = { 'X': X, 'Y': Y ,'X*Y': X*Y,'X/Y':X/Y,'X-Y':X-Y} \n",
    "  \n",
    "result = pd.DataFrame(frame)\n",
    "result.corr()\n"
   ]
  },
  {
   "cell_type": "markdown",
   "metadata": {},
   "source": [
    "<p><b><i>Вариант 2</i></b></p>"
   ]
  },
  {
   "cell_type": "code",
   "execution_count": 46,
   "metadata": {},
   "outputs": [
    {
     "data": {
      "text/html": [
       "<div>\n",
       "<style scoped>\n",
       "    .dataframe tbody tr th:only-of-type {\n",
       "        vertical-align: middle;\n",
       "    }\n",
       "\n",
       "    .dataframe tbody tr th {\n",
       "        vertical-align: top;\n",
       "    }\n",
       "\n",
       "    .dataframe thead th {\n",
       "        text-align: right;\n",
       "    }\n",
       "</style>\n",
       "<table border=\"1\" class=\"dataframe\">\n",
       "  <thead>\n",
       "    <tr style=\"text-align: right;\">\n",
       "      <th></th>\n",
       "      <th>X</th>\n",
       "      <th>Y</th>\n",
       "      <th>X*Y</th>\n",
       "      <th>X/Y</th>\n",
       "      <th>X-Y</th>\n",
       "    </tr>\n",
       "  </thead>\n",
       "  <tbody>\n",
       "    <tr>\n",
       "      <th>X</th>\n",
       "      <td>1.000000</td>\n",
       "      <td>0.835227</td>\n",
       "      <td>0.948043</td>\n",
       "      <td>-0.026924</td>\n",
       "      <td>0.033817</td>\n",
       "    </tr>\n",
       "    <tr>\n",
       "      <th>Y</th>\n",
       "      <td>0.835227</td>\n",
       "      <td>1.000000</td>\n",
       "      <td>0.965191</td>\n",
       "      <td>-0.569450</td>\n",
       "      <td>-0.521346</td>\n",
       "    </tr>\n",
       "    <tr>\n",
       "      <th>X*Y</th>\n",
       "      <td>0.948043</td>\n",
       "      <td>0.965191</td>\n",
       "      <td>1.000000</td>\n",
       "      <td>-0.337251</td>\n",
       "      <td>-0.283014</td>\n",
       "    </tr>\n",
       "    <tr>\n",
       "      <th>X/Y</th>\n",
       "      <td>-0.026924</td>\n",
       "      <td>-0.569450</td>\n",
       "      <td>-0.337251</td>\n",
       "      <td>1.000000</td>\n",
       "      <td>0.993170</td>\n",
       "    </tr>\n",
       "    <tr>\n",
       "      <th>X-Y</th>\n",
       "      <td>0.033817</td>\n",
       "      <td>-0.521346</td>\n",
       "      <td>-0.283014</td>\n",
       "      <td>0.993170</td>\n",
       "      <td>1.000000</td>\n",
       "    </tr>\n",
       "  </tbody>\n",
       "</table>\n",
       "</div>"
      ],
      "text/plain": [
       "            X         Y       X*Y       X/Y       X-Y\n",
       "X    1.000000  0.835227  0.948043 -0.026924  0.033817\n",
       "Y    0.835227  1.000000  0.965191 -0.569450 -0.521346\n",
       "X*Y  0.948043  0.965191  1.000000 -0.337251 -0.283014\n",
       "X/Y -0.026924 -0.569450 -0.337251  1.000000  0.993170\n",
       "X-Y  0.033817 -0.521346 -0.283014  0.993170  1.000000"
      ]
     },
     "execution_count": 46,
     "metadata": {},
     "output_type": "execute_result"
    }
   ],
   "source": [
    "X = df.math_SAT\n",
    "Y = df.verb_SAT #(оценка за вербальную часть теста SAT)\n",
    "\n",
    "frame = { 'X': X, 'Y': Y ,'X*Y': X*Y,'X/Y':X/Y,'X-Y':X-Y} \n",
    "  \n",
    "result = pd.DataFrame(frame)\n",
    "result.corr()\n"
   ]
  },
  {
   "cell_type": "markdown",
   "metadata": {},
   "source": [
    "<p><b><i>Вариант 3</i></b></p>"
   ]
  },
  {
   "cell_type": "code",
   "execution_count": 49,
   "metadata": {},
   "outputs": [
    {
     "data": {
      "text/html": [
       "<div>\n",
       "<style scoped>\n",
       "    .dataframe tbody tr th:only-of-type {\n",
       "        vertical-align: middle;\n",
       "    }\n",
       "\n",
       "    .dataframe tbody tr th {\n",
       "        vertical-align: top;\n",
       "    }\n",
       "\n",
       "    .dataframe thead th {\n",
       "        text-align: right;\n",
       "    }\n",
       "</style>\n",
       "<table border=\"1\" class=\"dataframe\">\n",
       "  <thead>\n",
       "    <tr style=\"text-align: right;\">\n",
       "      <th></th>\n",
       "      <th>X</th>\n",
       "      <th>Y</th>\n",
       "      <th>X*Y</th>\n",
       "      <th>X/Y</th>\n",
       "      <th>X-Y</th>\n",
       "    </tr>\n",
       "  </thead>\n",
       "  <tbody>\n",
       "    <tr>\n",
       "      <th>X</th>\n",
       "      <td>1.000000</td>\n",
       "      <td>0.779563</td>\n",
       "      <td>0.962052</td>\n",
       "      <td>0.471783</td>\n",
       "      <td>0.514337</td>\n",
       "    </tr>\n",
       "    <tr>\n",
       "      <th>Y</th>\n",
       "      <td>0.779563</td>\n",
       "      <td>1.000000</td>\n",
       "      <td>0.915995</td>\n",
       "      <td>-0.178795</td>\n",
       "      <td>-0.136170</td>\n",
       "    </tr>\n",
       "    <tr>\n",
       "      <th>X*Y</th>\n",
       "      <td>0.962052</td>\n",
       "      <td>0.915995</td>\n",
       "      <td>1.000000</td>\n",
       "      <td>0.218800</td>\n",
       "      <td>0.267504</td>\n",
       "    </tr>\n",
       "    <tr>\n",
       "      <th>X/Y</th>\n",
       "      <td>0.471783</td>\n",
       "      <td>-0.178795</td>\n",
       "      <td>0.218800</td>\n",
       "      <td>1.000000</td>\n",
       "      <td>0.991056</td>\n",
       "    </tr>\n",
       "    <tr>\n",
       "      <th>X-Y</th>\n",
       "      <td>0.514337</td>\n",
       "      <td>-0.136170</td>\n",
       "      <td>0.267504</td>\n",
       "      <td>0.991056</td>\n",
       "      <td>1.000000</td>\n",
       "    </tr>\n",
       "  </tbody>\n",
       "</table>\n",
       "</div>"
      ],
      "text/plain": [
       "            X         Y       X*Y       X/Y       X-Y\n",
       "X    1.000000  0.779563  0.962052  0.471783  0.514337\n",
       "Y    0.779563  1.000000  0.915995 -0.178795 -0.136170\n",
       "X*Y  0.962052  0.915995  1.000000  0.218800  0.267504\n",
       "X/Y  0.471783 -0.178795  0.218800  1.000000  0.991056\n",
       "X-Y  0.514337 -0.136170  0.267504  0.991056  1.000000"
      ]
     },
     "execution_count": 49,
     "metadata": {},
     "output_type": "execute_result"
    }
   ],
   "source": [
    "X = df.high_GPA # (оценка в школе)\n",
    "Y = df.univ_GPA\n",
    "\n",
    "frame = { 'X': X, 'Y': Y ,'X*Y': X*Y,'X/Y':X/Y,'X-Y':X-Y} \n",
    "  \n",
    "result = pd.DataFrame(frame)\n",
    "result.corr()\n"
   ]
  },
  {
   "cell_type": "markdown",
   "metadata": {},
   "source": [
    "<p><b>Задача 1.</b> Корреляционная матрица</p>"
   ]
  },
  {
   "cell_type": "markdown",
   "metadata": {},
   "source": [
    "<div>\n",
    "<p>В соответствии с вариантом постройте корреляционную матрицу следующего вида:</p>\n",
    "<table >\n",
    "<tr>\n",
    "<td width=60, bgcolor=\"grey\"></td>\n",
    "<td width=60, bgcolor=\"lightgrey\">$$X$$</td>\n",
    "<td width=60, bgcolor=\"lightgrey\">$$Y$$</td>\n",
    "<td width=60, bgcolor=\"lightgrey\">$$X\\cdot Y$$</td>\n",
    "<td width=60, bgcolor=\"lightgrey\">$$X/Y$$</td>\n",
    "<td width=60, bgcolor=\"lightgrey\">$$X-Y$$</td>\n",
    "<tr>\n",
    "<tr>\n",
    "<td width=60, bgcolor=\"lightgrey\">$$X$$</td>\n",
    "<td width=60>$$r_{X,X}$$</td>\n",
    "<td width=60>$$r_{X,Y}$$</td>\n",
    "<td width=60>$$r_{X,X\\cdot Y}$$</td>\n",
    "<td width=60>$$r_{X,X/Y}$$</td>\n",
    "<td width=60>$$r_{X,X-Y}$$</td>\n",
    "<tr>\n",
    "<tr>\n",
    "<td width=60, bgcolor=\"lightgrey\">$$Y$$</td>\n",
    "<td width=60>$$r_{Y,X}$$</td>\n",
    "<td width=60>$$r_{Y,Y}$$</td>\n",
    "<td width=60>$$r_{Y,X\\cdot Y}$$</td>\n",
    "<td width=60>$$r_{Y,X/Y}$$</td>\n",
    "<td width=60>$$r_{Y,X-Y}$$</td>\n",
    "<tr>\n",
    "<tr>\n",
    "<td width=60, bgcolor=\"lightgrey\">$$X\\cdot Y$$</td>\n",
    "<td width=60>$$r_{X\\cdot Y,X}$$</td>\n",
    "<td width=60>$$r_{X\\cdot Y,Y}$$</td>\n",
    "<td width=60>$$r_{X\\cdot Y,X\\cdot Y}$$</td>\n",
    "<td width=60>$$r_{X\\cdot Y,X/Y}$$</td>\n",
    "<td width=60>$$r_{X\\cdot Y,X-Y}$$</td>\n",
    "<tr>\n",
    "<tr>\n",
    "<td width=60, bgcolor=\"lightgrey\">$$X/Y$$</td>\n",
    "<td width=60>$$r_{X/Y,X}$$</td>\n",
    "<td width=60>$$r_{X/Y,Y}$$</td>\n",
    "<td width=60>$$r_{X/Y,X\\cdot Y}$$</td>\n",
    "<td width=60>$$r_{X/Y,X/Y}$$</td>\n",
    "<td width=60>$$r_{X/Y,X-Y}$$</td>\n",
    "<tr>\n",
    "<tr>\n",
    "<td width=60, bgcolor=\"lightgrey\">$$X-Y$$</td>\n",
    "<td width=60>$$r_{X-Y,X}$$</td>\n",
    "<td width=60>$$r_{X-Y,Y}$$</td>\n",
    "<td width=60>$$r_{X-Y,X\\cdot Y}$$</td>\n",
    "<td width=60>$$r_{X-Y,X/Y}$$</td>\n",
    "<td width=60>$$r_{X-Y,X-Y}$$</td>\n",
    "<tr>\n",
    "</table>\n",
    "</div>"
   ]
  },
  {
   "cell_type": "code",
   "execution_count": null,
   "metadata": {
    "collapsed": true
   },
   "outputs": [],
   "source": [
    "#Ваш код"
   ]
  },
  {
   "cell_type": "markdown",
   "metadata": {},
   "source": [
    "<p><b>Задача 2.</b> Графики</p>"
   ]
  },
  {
   "cell_type": "markdown",
   "metadata": {},
   "source": [
    "<p>Постройте графики в виде матрицы 2x2 для $(X,Y)$, $(X,X\\cdot Y)$, $(X,X/Y)$ и $(X,X-Y)$. Добавьте в них прямые регрессии для каждого сочетания. Укажите каждого графика его название по сочетанию (X,Y и др.), а в легенде, какие данные он содержит.</p>"
   ]
  },
  {
   "cell_type": "markdown",
   "metadata": {},
   "source": [
    "<p>Наклон и пересечение для прямых можно определить следующим образом:</p>"
   ]
  },
  {
   "cell_type": "code",
   "execution_count": 59,
   "metadata": {},
   "outputs": [
    {
     "name": "stdout",
     "output_type": "stream",
     "text": [
      "0.6748299034477605 1.0968232817933754\n"
     ]
    }
   ],
   "source": [
    "from scipy import stats\n",
    "slope, intercept, r, p_value, std_err = stats.linregress(X, Y)\n",
    "print(slope, intercept)"
   ]
  },
  {
   "cell_type": "code",
   "execution_count": 62,
   "metadata": {},
   "outputs": [
    {
     "data": {
      "text/plain": [
       "[<matplotlib.lines.Line2D at 0x7f4e11e70370>]"
      ]
     },
     "execution_count": 62,
     "metadata": {},
     "output_type": "execute_result"
    },
    {
     "data": {
      "image/png": "[encoded data removed]",
      "text/plain": [
       "<Figure size 432x288 with 1 Axes>"
      ]
     },
     "metadata": {
      "needs_background": "light"
     },
     "output_type": "display_data"
    }
   ],
   "source": [
    "import matplotlib.pyplot as plt\n",
    "import numpy as np\n",
    "xrange=np.arange(X.min(),X.max(),0.2)\n",
    "yrange = intercept +xrange*slope\n",
    "plt.plot(X,Y,'o')\n",
    "plt.plot(xrange,yrange,)"
   ]
  },
  {
   "cell_type": "code",
   "execution_count": null,
   "metadata": {},
   "outputs": [],
   "source": []
  }
 ],
 "metadata": {
  "kernelspec": {
   "display_name": "Python 3",
   "language": "python",
   "name": "python3"
  },
  "language_info": {
   "codemirror_mode": {
    "name": "ipython",
    "version": 3
   },
   "file_extension": ".py",
   "mimetype": "text/x-python",
   "name": "python",
   "nbconvert_exporter": "python",
   "pygments_lexer": "ipython3",
   "version": "3.8.2"
  }
 },
 "nbformat": 4,
 "nbformat_minor": 1
}