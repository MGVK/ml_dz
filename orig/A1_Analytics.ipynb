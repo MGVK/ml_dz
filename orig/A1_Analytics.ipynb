{
 "cells": [
  {
   "cell_type": "code",
   "execution_count": 13,
   "outputs": [],
   "source": [
    "import pandas as pnd\n",
    "import matplotlib as mlp"
   ],
   "metadata": {
    "collapsed": false,
    "pycharm": {
     "name": "#%%\n"
    }
   }
  },
  {
   "cell_type": "markdown",
   "metadata": {},
   "source": [
    "<div style=\"font-size:18pt; padding-top:20px; text-align:center\">ЗАДАНИЕ. <b>Индекс реальной зарплаты</b></div><hr>\n",
    "<div style=\"text-align:right;\">Папулин С.Ю. <span style=\"font-style: italic;font-weight: bold;\">(papulin.study@yandex.ru)</span></div>"
   ]
  },
  {
   "cell_type": "markdown",
   "metadata": {},
   "source": [
    "<a name=\"0\"></a>\n",
    "<div><span style=\"font-size:14pt; font-weight:bold\">Содержание</span>\n",
    "    <ol>\n",
    "        <li><a href=\"#1\">Расчет индекса реальной заработной платы</a></li>\n",
    "        <li><a href=\"#2\">Варианты</a></li>\n",
    "    </ol>\n",
    "</div>"
   ]
  },
  {
   "cell_type": "markdown",
   "metadata": {},
   "source": [
    "Подключение стилей оформления"
   ]
  },
  {
   "cell_type": "code",
   "execution_count": 10,
   "metadata": {},
   "outputs": [
    {
     "ename": "SyntaxError",
     "evalue": "invalid syntax (<ipython-input-10-c7af6ab6168e>, line 3)",
     "output_type": "error",
     "traceback": [
      "\u001B[0;36m  File \u001B[0;32m\"<ipython-input-10-c7af6ab6168e>\"\u001B[0;36m, line \u001B[0;32m3\u001B[0m\n\u001B[0;31m    <link href=\"css/style.css\" rel=\"stylesheet\" type=\"text/css\">\u001B[0m\n\u001B[0m    ^\u001B[0m\n\u001B[0;31mSyntaxError\u001B[0m\u001B[0;31m:\u001B[0m invalid syntax\n"
     ]
    }
   ],
   "source": [
    "%%html\n",
    "<link href=\"css/style.css\" rel=\"stylesheet\" type=\"text/css\">"
   ]
  },
  {
   "cell_type": "markdown",
   "metadata": {},
   "source": [
    "<a name=\"1\"></a>\n",
    "<div style=\"display:table; width:100%; padding-top:10px; padding-bottom:10px; border-bottom:1px solid lightgrey\">\n",
    "    <div style=\"display:table-row\">\n",
    "        <div style=\"display:table-cell; width:80%; font-size:14pt; font-weight:bold\">1. Расчет индекса реальной заработной платы</div>\n",
    "    \t<div style=\"display:table-cell; width:20%; text-align:center; background-color:whitesmoke; border:1px solid lightgrey\"><a href=\"#0\">К содержанию</a></div>\n",
    "    </div>\n",
    "</div>"
   ]
  },
  {
   "cell_type": "markdown",
   "metadata": {},
   "source": [
    "<div class=\"msg-block msg-imp\">\n",
    "  <div class=\"msg-text-imp\">\n",
    "      <p>СРОК СДАЧИ: до <b>-</b></p>\n",
    "      <p style=\"margin:0px\">ПОСЛЕ СРОКА: первая неделя <b>-</b>, вторая неделя и далее до конца модуля <b>-</b>\n",
    "      </p>\n",
    "  </div>\n",
    "</div>"
   ]
  },
  {
   "cell_type": "markdown",
   "metadata": {},
   "source": [
    "<p>Среднемесячная начисленная заработная плата (руб.) - $НЗП$<br>\n",
    "Среднемесячная начисленная заработная плата базового периода (руб.) - $НЗПБ$<br>\n",
    "Индекс номинальной заработной платы (%) - $И_{НЗП,\\%}$<br>\n",
    "Индекс потребительских цен (%) - $И_{ПЦ,\\%}$<br>\n",
    "Индекс реальной заработной платы (%) - $И_{РЗП,\\%}$</p>"
   ]
  },
  {
   "cell_type": "markdown",
   "metadata": {},
   "source": [
    "$$И_{НЗП,\\%}=\\frac{НЗП}{НЗПБ}\\cdot 100 $$"
   ]
  },
  {
   "cell_type": "markdown",
   "metadata": {},
   "source": [
    "$$И_{РЗП,\\%}=\\frac{И_{НЗП}}{И_{ПЦ}} \\cdot 100$$"
   ]
  },
  {
   "cell_type": "markdown",
   "metadata": {},
   "source": [
    "<a href = \"http://www.gks.ru/bgd/free/b00_24/isswww.exe/stg/d000/i000101r.htm\">Аналитическая основа, концепции, определения и классификации</a><br>\n",
    "<a href = \"http://www.gks.ru/bgd/free/B00_24/IssWWW.exe/Stg/d000/I000050R.HTM\">Динамика среднемесячной номинальной и реальной начисленной заработной платы (2014, 2015)</a>\n",
    "\n"
   ]
  },
  {
   "cell_type": "markdown",
   "metadata": {},
   "source": [
    "<p><b>Пример</b> расчета $И_{РЗП}$ за 2014 год</p>"
   ]
  },
  {
   "cell_type": "markdown",
   "metadata": {},
   "source": [
    "$$НЗП_{2014} = 32495 руб.$$"
   ]
  },
  {
   "cell_type": "markdown",
   "metadata": {},
   "source": [
    "$$НЗПБ_{2013} = 29792 руб.$$"
   ]
  },
  {
   "cell_type": "markdown",
   "metadata": {},
   "source": [
    "$$И_{ПЦ,2014,\\%}=107.82$$"
   ]
  },
  {
   "cell_type": "markdown",
   "metadata": {},
   "source": [
    "$$И_{НЗП,2014,\\%}=\\frac{НЗП_{2014}}{НЗПБ_{2013}} \\cdot 100= 109.07$$"
   ]
  },
  {
   "cell_type": "markdown",
   "metadata": {},
   "source": [
    "$$И_{РЗП,2014}=\\frac{И_{НЗП,2014,\\%}}{И_{ПЦ,2014,\\%}}\\cdot 100=101.16$$"
   ]
  },
  {
   "cell_type": "markdown",
   "metadata": {},
   "source": [
    "Реальная заработная плата в 2014 году изменилась по отношению к 2013 году на \n",
    "$$\\bigtriangleup И_{РЗП,2014} = И_{РЗП,2014} - 100 = +1.16\\%$$"
   ]
  },
  {
   "cell_type": "code",
   "execution_count": 70,
   "metadata": {},
   "outputs": [
    {
     "data": {
      "text/plain": "1.1620343887782383"
     },
     "execution_count": 70,
     "metadata": {},
     "output_type": "execute_result"
    }
   ],
   "source": [
    "nom_salary_2014 = 32495\n",
    "nom_salary_base_2013 = 29792\n",
    "i_price_2014 = 107.82 / 100\n",
    "i_nom_salary = nom_salary_2014 / nom_salary_base_2013\n",
    "i_real_salary_2014 = i_nom_salary / i_price_2014 * 100\n",
    "dif = i_real_salary_2014 - 100\n",
    "dif\n"
   ]
  },
  {
   "cell_type": "markdown",
   "source": [
    "<p><b>Задача 1.</b> Найти индексы номинальной заработной платы, построить график изменения индекса в процентах (год-изменение индекса в %) </p>"
   ],
   "metadata": {
    "collapsed": false
   }
  },
  {
   "cell_type": "code",
   "metadata": {
    "pycharm": {
     "name": "#%%\n"
    }
   },
   "source": [
    "filePath = r\"work/Assignments/data/A1_Analytics/V1_Nom_Salary_By_Regions.xlsx\"\n",
    "df = pnd.read_excel(filePath, header=1, skiprows=3,index_col=0)\n",
    "df = df.dropna()\n",
    "\n",
    "dft=df.copy()\n",
    "dft = dft.transpose()\n",
    "dfr = dft.copy()\n",
    "for year in dft.index[1:]:\n",
    "    dfr.loc[year] = dft.loc[year]/dft.loc[year-1]*100-100\n",
    "dfr=dfr.drop(index=[2000,2001])\n",
    "dfr"
   ],
   "execution_count": 72,
   "outputs": [
    {
     "data": {
      "text/plain": "      Российская Федерация  Центральный федеральный округ   \\\n2002             34.560548                       35.723690   \n2003             26.103708                       32.491089   \n2004             22.569792                       23.898311   \n2005             26.936716                       32.234790   \n2006             24.301862                       25.936935   \n2007             27.830805                       31.023982   \n2008             27.194815                       30.163699   \n2009              7.792899                        8.414426   \n2010             12.419584                       13.266472   \n2011             11.535781                       12.107468   \n2012             13.948702                       13.134899   \n2013             11.878448                       12.509398   \n2014              9.072905                       10.307214   \n\n      Белгородская область    Брянская область  Владимирская область  \\\n2002               39.449102         43.780958             38.137627   \n2003               27.922821         26.928230             27.131440   \n2004               18.256277         26.541013             18.046514   \n2005               28.215124         24.765854             27.697910   \n2006               23.046610         24.797051             22.550603   \n2007               25.700200         25.347823             30.305720   \n2008               28.904051         24.793641             25.164893   \n2009                4.090017          7.148658              8.288733   \n2010               13.351824         12.555362             10.305227   \n2011               10.849270         12.870773             12.630830   \n2012               13.213453         18.818286             12.440312   \n2013               11.092835         14.784634             14.086265   \n2014                7.533898         10.209287              7.902118   \n\n      Воронежская область  Ивановская область  Калужская область  \\\n2002            34.900382           47.131194          39.093177   \n2003            37.578013           25.413279          29.849883   \n2004            22.301429           25.327229          25.694429   \n2005            23.996682           26.105077          25.228610   \n2006            25.418974           23.696950          21.596570   \n2007            29.340918           28.431773          27.166715   \n2008            31.603844           24.930246          28.905077   \n2009            11.278307           12.529386           9.413427   \n2010            12.131925           14.235848          14.732887   \n2011            11.978545           10.004343          13.116460   \n2012            21.697073           17.746360          18.543258   \n2013            11.705847           11.668363           8.633634   \n2014             9.969210            8.484577           9.672861   \n\n      Костромская область   Курская область         ...           \\\n2002             40.057518        42.494904         ...            \n2003             26.113882        38.649686         ...            \n2004             22.068591        23.036465         ...            \n2005             26.494749        12.002209         ...            \n2006             22.615740        26.461404         ...            \n2007             23.646564        27.897876         ...            \n2008             26.482375        29.136934         ...            \n2009              8.642827         9.183031         ...            \n2010              8.666276        12.162368         ...            \n2011             10.089607        15.951879         ...            \n2012             13.464961        15.080538         ...            \n2013             13.382262        13.612627         ...            \n2014              8.929084         8.782059         ...            \n\n      Дальневосточный федеральный округ  Республика Саха (Якутия)  \\\n2002                          39.113541                 35.019745   \n2003                          26.351792                 18.669081   \n2004                          20.656015                 16.683853   \n2005                          26.249561                 18.749834   \n2006                          19.147716                 20.321652   \n2007                          21.891273                 20.050719   \n2008                          24.324179                 22.704182   \n2009                          11.451851                 11.407085   \n2010                          11.470865                  8.198970   \n2011                          13.579735                 18.613279   \n2012                          14.544146                 17.221268   \n2013                          11.894950                 16.601028   \n2014                           8.774096                  9.816940   \n\n      Камчатский край  Приморский край  Хабаровский край  Амурская область  \\\n2002        40.950432        36.708554         40.396258         49.100731   \n2003        18.908580        28.313547         31.294323         26.384212   \n2004        19.168379        21.409953         21.441270         24.004249   \n2005        25.853615        26.904484         26.677395         27.715300   \n2006        19.795698        22.154005         13.691379         18.303201   \n2007        17.657180        20.828939         23.246376         21.813011   \n2008        24.935021        27.561655         19.523405         23.130689   \n2009        15.834991        13.045445          7.745793         14.125413   \n2010        13.233175        15.219451         10.762650         11.506914   \n2011        10.009903        11.578120         15.444574         14.120476   \n2012        10.746099        12.371944         18.811961         10.688742   \n2013        11.657126         9.186142          9.834567         14.008362   \n2014         9.332330         8.227073          7.760098          6.074645   \n\n      Магаданская область  Сахалинская область  Еврейская авт.область  \\\n2002            32.595337            39.767433              50.661219   \n2003            26.083043            34.079577              28.685268   \n2004            19.056041            25.507448              20.407409   \n2005            31.303134            30.155152              25.736129   \n2006            20.954705            23.614738              16.347586   \n2007            24.535701            23.904979              25.603677   \n2008            26.825207            28.758733              25.638112   \n2009            16.503867             8.534484              12.321197   \n2010            12.020578             9.875590              16.741562   \n2011            14.629326             8.153337              16.277006   \n2012            18.442446            14.023219               9.331589   \n2013            15.007460            10.856278               9.138309   \n2014             8.807428            12.016879               7.607730   \n\n      Чукотский авт.округ  \n2002            64.344227  \n2003            27.915003  \n2004             7.802232  \n2005            25.223706  \n2006            10.245170  \n2007            20.060304  \n2008            24.168884  \n2009            11.004139  \n2010            10.184347  \n2011            13.877100  \n2012            13.937039  \n2013            12.258212  \n2014            11.754391  \n\n[13 rows x 92 columns]",
      "text/html": "<div>\n<style scoped>\n    .dataframe tbody tr th:only-of-type {\n        vertical-align: middle;\n    }\n\n    .dataframe tbody tr th {\n        vertical-align: top;\n    }\n\n    .dataframe thead th {\n        text-align: right;\n    }\n</style>\n<table border=\"1\" class=\"dataframe\">\n  <thead>\n    <tr style=\"text-align: right;\">\n      <th></th>\n      <th>Российская Федерация</th>\n      <th>Центральный федеральный округ</th>\n      <th>Белгородская область</th>\n      <th>Брянская область</th>\n      <th>Владимирская область</th>\n      <th>Воронежская область</th>\n      <th>Ивановская область</th>\n      <th>Калужская область</th>\n      <th>Костромская область</th>\n      <th>Курская область</th>\n      <th>...</th>\n      <th>Дальневосточный федеральный округ</th>\n      <th>Республика Саха (Якутия)</th>\n      <th>Камчатский край</th>\n      <th>Приморский край</th>\n      <th>Хабаровский край</th>\n      <th>Амурская область</th>\n      <th>Магаданская область</th>\n      <th>Сахалинская область</th>\n      <th>Еврейская авт.область</th>\n      <th>Чукотский авт.округ</th>\n    </tr>\n  </thead>\n  <tbody>\n    <tr>\n      <th>2002</th>\n      <td>34.560548</td>\n      <td>35.723690</td>\n      <td>39.449102</td>\n      <td>43.780958</td>\n      <td>38.137627</td>\n      <td>34.900382</td>\n      <td>47.131194</td>\n      <td>39.093177</td>\n      <td>40.057518</td>\n      <td>42.494904</td>\n      <td>...</td>\n      <td>39.113541</td>\n      <td>35.019745</td>\n      <td>40.950432</td>\n      <td>36.708554</td>\n      <td>40.396258</td>\n      <td>49.100731</td>\n      <td>32.595337</td>\n      <td>39.767433</td>\n      <td>50.661219</td>\n      <td>64.344227</td>\n    </tr>\n    <tr>\n      <th>2003</th>\n      <td>26.103708</td>\n      <td>32.491089</td>\n      <td>27.922821</td>\n      <td>26.928230</td>\n      <td>27.131440</td>\n      <td>37.578013</td>\n      <td>25.413279</td>\n      <td>29.849883</td>\n      <td>26.113882</td>\n      <td>38.649686</td>\n      <td>...</td>\n      <td>26.351792</td>\n      <td>18.669081</td>\n      <td>18.908580</td>\n      <td>28.313547</td>\n      <td>31.294323</td>\n      <td>26.384212</td>\n      <td>26.083043</td>\n      <td>34.079577</td>\n      <td>28.685268</td>\n      <td>27.915003</td>\n    </tr>\n    <tr>\n      <th>2004</th>\n      <td>22.569792</td>\n      <td>23.898311</td>\n      <td>18.256277</td>\n      <td>26.541013</td>\n      <td>18.046514</td>\n      <td>22.301429</td>\n      <td>25.327229</td>\n      <td>25.694429</td>\n      <td>22.068591</td>\n      <td>23.036465</td>\n      <td>...</td>\n      <td>20.656015</td>\n      <td>16.683853</td>\n      <td>19.168379</td>\n      <td>21.409953</td>\n      <td>21.441270</td>\n      <td>24.004249</td>\n      <td>19.056041</td>\n      <td>25.507448</td>\n      <td>20.407409</td>\n      <td>7.802232</td>\n    </tr>\n    <tr>\n      <th>2005</th>\n      <td>26.936716</td>\n      <td>32.234790</td>\n      <td>28.215124</td>\n      <td>24.765854</td>\n      <td>27.697910</td>\n      <td>23.996682</td>\n      <td>26.105077</td>\n      <td>25.228610</td>\n      <td>26.494749</td>\n      <td>12.002209</td>\n      <td>...</td>\n      <td>26.249561</td>\n      <td>18.749834</td>\n      <td>25.853615</td>\n      <td>26.904484</td>\n      <td>26.677395</td>\n      <td>27.715300</td>\n      <td>31.303134</td>\n      <td>30.155152</td>\n      <td>25.736129</td>\n      <td>25.223706</td>\n    </tr>\n    <tr>\n      <th>2006</th>\n      <td>24.301862</td>\n      <td>25.936935</td>\n      <td>23.046610</td>\n      <td>24.797051</td>\n      <td>22.550603</td>\n      <td>25.418974</td>\n      <td>23.696950</td>\n      <td>21.596570</td>\n      <td>22.615740</td>\n      <td>26.461404</td>\n      <td>...</td>\n      <td>19.147716</td>\n      <td>20.321652</td>\n      <td>19.795698</td>\n      <td>22.154005</td>\n      <td>13.691379</td>\n      <td>18.303201</td>\n      <td>20.954705</td>\n      <td>23.614738</td>\n      <td>16.347586</td>\n      <td>10.245170</td>\n    </tr>\n    <tr>\n      <th>2007</th>\n      <td>27.830805</td>\n      <td>31.023982</td>\n      <td>25.700200</td>\n      <td>25.347823</td>\n      <td>30.305720</td>\n      <td>29.340918</td>\n      <td>28.431773</td>\n      <td>27.166715</td>\n      <td>23.646564</td>\n      <td>27.897876</td>\n      <td>...</td>\n      <td>21.891273</td>\n      <td>20.050719</td>\n      <td>17.657180</td>\n      <td>20.828939</td>\n      <td>23.246376</td>\n      <td>21.813011</td>\n      <td>24.535701</td>\n      <td>23.904979</td>\n      <td>25.603677</td>\n      <td>20.060304</td>\n    </tr>\n    <tr>\n      <th>2008</th>\n      <td>27.194815</td>\n      <td>30.163699</td>\n      <td>28.904051</td>\n      <td>24.793641</td>\n      <td>25.164893</td>\n      <td>31.603844</td>\n      <td>24.930246</td>\n      <td>28.905077</td>\n      <td>26.482375</td>\n      <td>29.136934</td>\n      <td>...</td>\n      <td>24.324179</td>\n      <td>22.704182</td>\n      <td>24.935021</td>\n      <td>27.561655</td>\n      <td>19.523405</td>\n      <td>23.130689</td>\n      <td>26.825207</td>\n      <td>28.758733</td>\n      <td>25.638112</td>\n      <td>24.168884</td>\n    </tr>\n    <tr>\n      <th>2009</th>\n      <td>7.792899</td>\n      <td>8.414426</td>\n      <td>4.090017</td>\n      <td>7.148658</td>\n      <td>8.288733</td>\n      <td>11.278307</td>\n      <td>12.529386</td>\n      <td>9.413427</td>\n      <td>8.642827</td>\n      <td>9.183031</td>\n      <td>...</td>\n      <td>11.451851</td>\n      <td>11.407085</td>\n      <td>15.834991</td>\n      <td>13.045445</td>\n      <td>7.745793</td>\n      <td>14.125413</td>\n      <td>16.503867</td>\n      <td>8.534484</td>\n      <td>12.321197</td>\n      <td>11.004139</td>\n    </tr>\n    <tr>\n      <th>2010</th>\n      <td>12.419584</td>\n      <td>13.266472</td>\n      <td>13.351824</td>\n      <td>12.555362</td>\n      <td>10.305227</td>\n      <td>12.131925</td>\n      <td>14.235848</td>\n      <td>14.732887</td>\n      <td>8.666276</td>\n      <td>12.162368</td>\n      <td>...</td>\n      <td>11.470865</td>\n      <td>8.198970</td>\n      <td>13.233175</td>\n      <td>15.219451</td>\n      <td>10.762650</td>\n      <td>11.506914</td>\n      <td>12.020578</td>\n      <td>9.875590</td>\n      <td>16.741562</td>\n      <td>10.184347</td>\n    </tr>\n    <tr>\n      <th>2011</th>\n      <td>11.535781</td>\n      <td>12.107468</td>\n      <td>10.849270</td>\n      <td>12.870773</td>\n      <td>12.630830</td>\n      <td>11.978545</td>\n      <td>10.004343</td>\n      <td>13.116460</td>\n      <td>10.089607</td>\n      <td>15.951879</td>\n      <td>...</td>\n      <td>13.579735</td>\n      <td>18.613279</td>\n      <td>10.009903</td>\n      <td>11.578120</td>\n      <td>15.444574</td>\n      <td>14.120476</td>\n      <td>14.629326</td>\n      <td>8.153337</td>\n      <td>16.277006</td>\n      <td>13.877100</td>\n    </tr>\n    <tr>\n      <th>2012</th>\n      <td>13.948702</td>\n      <td>13.134899</td>\n      <td>13.213453</td>\n      <td>18.818286</td>\n      <td>12.440312</td>\n      <td>21.697073</td>\n      <td>17.746360</td>\n      <td>18.543258</td>\n      <td>13.464961</td>\n      <td>15.080538</td>\n      <td>...</td>\n      <td>14.544146</td>\n      <td>17.221268</td>\n      <td>10.746099</td>\n      <td>12.371944</td>\n      <td>18.811961</td>\n      <td>10.688742</td>\n      <td>18.442446</td>\n      <td>14.023219</td>\n      <td>9.331589</td>\n      <td>13.937039</td>\n    </tr>\n    <tr>\n      <th>2013</th>\n      <td>11.878448</td>\n      <td>12.509398</td>\n      <td>11.092835</td>\n      <td>14.784634</td>\n      <td>14.086265</td>\n      <td>11.705847</td>\n      <td>11.668363</td>\n      <td>8.633634</td>\n      <td>13.382262</td>\n      <td>13.612627</td>\n      <td>...</td>\n      <td>11.894950</td>\n      <td>16.601028</td>\n      <td>11.657126</td>\n      <td>9.186142</td>\n      <td>9.834567</td>\n      <td>14.008362</td>\n      <td>15.007460</td>\n      <td>10.856278</td>\n      <td>9.138309</td>\n      <td>12.258212</td>\n    </tr>\n    <tr>\n      <th>2014</th>\n      <td>9.072905</td>\n      <td>10.307214</td>\n      <td>7.533898</td>\n      <td>10.209287</td>\n      <td>7.902118</td>\n      <td>9.969210</td>\n      <td>8.484577</td>\n      <td>9.672861</td>\n      <td>8.929084</td>\n      <td>8.782059</td>\n      <td>...</td>\n      <td>8.774096</td>\n      <td>9.816940</td>\n      <td>9.332330</td>\n      <td>8.227073</td>\n      <td>7.760098</td>\n      <td>6.074645</td>\n      <td>8.807428</td>\n      <td>12.016879</td>\n      <td>7.607730</td>\n      <td>11.754391</td>\n    </tr>\n  </tbody>\n</table>\n<p>13 rows × 92 columns</p>\n</div>"
     },
     "execution_count": 72,
     "metadata": {},
     "output_type": "execute_result"
    }
   ]
  },
  {
   "cell_type": "markdown",
   "metadata": {},
   "source": [
    "<p><b>Задача 2.</b> Построить график изменения индекса потребительских цен в процентах (год-изменение индекса в %) </p>"
   ]
  },
  {
   "cell_type": "code",
   "execution_count": 95,
   "outputs": [
    {
     "data": {
      "text/plain": "      Российская Федерация  Центральный федеральный округ  г.Москва  \\\n2011                  1.59                           1.37      0.59   \n2012                 -3.37                          -3.07     -2.40   \n2013                  1.69                           1.56      0.74   \n2014                  1.06                           1.46      1.24   \n2015                  7.71                           7.94      8.70   \n\n      Северо-Западный федеральный округ  Северо-Кавказский федеральный округ  \\\n2011                               1.48                                 0.84   \n2012                              -3.62                                -4.34   \n2013                               1.88                                 1.71   \n2014                               1.54                                -0.02   \n2015                               8.36                                10.12   \n\n      Приволжский федеральный округ  Ханты-Мансийский автономный округ-Югра  \\\n2011                           2.07                                   -1.42   \n2012                          -4.01                                   -3.49   \n2013                           1.87                                    2.97   \n2014                           0.86                                   -0.21   \n2015                           6.94                                    8.38   \n\n      Сибирский федеральный округ  Дальневосточный федеральный округ  \n2011                         1.89                               1.09  \n2012                        -2.85                              -2.46  \n2013                         1.56                               1.24  \n2014                         0.39                               0.70  \n2015                         6.98                               7.27  ",
      "text/html": "<div>\n<style scoped>\n    .dataframe tbody tr th:only-of-type {\n        vertical-align: middle;\n    }\n\n    .dataframe tbody tr th {\n        vertical-align: top;\n    }\n\n    .dataframe thead th {\n        text-align: right;\n    }\n</style>\n<table border=\"1\" class=\"dataframe\">\n  <thead>\n    <tr style=\"text-align: right;\">\n      <th></th>\n      <th>Российская Федерация</th>\n      <th>Центральный федеральный округ</th>\n      <th>г.Москва</th>\n      <th>Северо-Западный федеральный округ</th>\n      <th>Северо-Кавказский федеральный округ</th>\n      <th>Приволжский федеральный округ</th>\n      <th>Ханты-Мансийский автономный округ-Югра</th>\n      <th>Сибирский федеральный округ</th>\n      <th>Дальневосточный федеральный округ</th>\n    </tr>\n  </thead>\n  <tbody>\n    <tr>\n      <th>2011</th>\n      <td>1.59</td>\n      <td>1.37</td>\n      <td>0.59</td>\n      <td>1.48</td>\n      <td>0.84</td>\n      <td>2.07</td>\n      <td>-1.42</td>\n      <td>1.89</td>\n      <td>1.09</td>\n    </tr>\n    <tr>\n      <th>2012</th>\n      <td>-3.37</td>\n      <td>-3.07</td>\n      <td>-2.40</td>\n      <td>-3.62</td>\n      <td>-4.34</td>\n      <td>-4.01</td>\n      <td>-3.49</td>\n      <td>-2.85</td>\n      <td>-2.46</td>\n    </tr>\n    <tr>\n      <th>2013</th>\n      <td>1.69</td>\n      <td>1.56</td>\n      <td>0.74</td>\n      <td>1.88</td>\n      <td>1.71</td>\n      <td>1.87</td>\n      <td>2.97</td>\n      <td>1.56</td>\n      <td>1.24</td>\n    </tr>\n    <tr>\n      <th>2014</th>\n      <td>1.06</td>\n      <td>1.46</td>\n      <td>1.24</td>\n      <td>1.54</td>\n      <td>-0.02</td>\n      <td>0.86</td>\n      <td>-0.21</td>\n      <td>0.39</td>\n      <td>0.70</td>\n    </tr>\n    <tr>\n      <th>2015</th>\n      <td>7.71</td>\n      <td>7.94</td>\n      <td>8.70</td>\n      <td>8.36</td>\n      <td>10.12</td>\n      <td>6.94</td>\n      <td>8.38</td>\n      <td>6.98</td>\n      <td>7.27</td>\n    </tr>\n  </tbody>\n</table>\n</div>"
     },
     "execution_count": 95,
     "metadata": {},
     "output_type": "execute_result"
    }
   ],
   "source": [
    "filePath = r\"work/Assignments/data/A1_Analytics/V1_Index_Price_By_Year.xls\"\n",
    "df2 = pnd.read_excel(filePath, skiprows=1)\n",
    "df2 = df2.drop(index=range(31)).set_index(df2.columns[0])\n",
    "df2.index.name=None\n",
    "df2.dropna(axis=1,inplace=True)\n",
    "df2\n",
    "df2t = df2.transpose()\n",
    "df2t = df2t.astype(str).loc[:].apply(lambda x:x.str.replace(',','.').astype(float))\n",
    "df2r = (df2t-df2t.shift(1).fillna(0))\n",
    "df2r"
   ],
   "metadata": {
    "collapsed": false,
    "pycharm": {
     "name": "#%%\n"
    }
   }
  },
  {
   "cell_type": "code",
   "execution_count": 96,
   "outputs": [
    {
     "data": {
      "text/plain": "<matplotlib.axes._subplots.AxesSubplot at 0x7f266447a160>"
     },
     "execution_count": 96,
     "metadata": {},
     "output_type": "execute_result"
    },
    {
     "data": {
      "text/plain": "<Figure size 432x288 with 1 Axes>",
      "image/png": "[encoded data removed]"
     },
     "metadata": {
      "needs_background": "light"
     },
     "output_type": "display_data"
    }
   ],
   "source": [
    "df2r.plot()"
   ],
   "metadata": {
    "collapsed": false,
    "pycharm": {
     "name": "#%%\n"
    }
   }
  },
  {
   "cell_type": "markdown",
   "metadata": {},
   "source": [
    "<div class=\"msg-block msg-info\">\n",
    "  <p class=\"msg-text-info\">В расчетах используйте следующий показатель: <i>период с начала отчетного года в % к соответствующему периоду предыдущего года </i></p>\n",
    "</div>"
   ]
  },
  {
   "cell_type": "markdown",
   "metadata": {
    "pycharm": {
     "name": "#%% md\n"
    }
   },
   "source": [
    "<p><b>Задача 3.</b> Найти индексы реальной заработной платы, построить график изменения индекса в процентах (год-изменение индекса в %) </p>"
   ]
  },
  {
   "cell_type": "code",
   "execution_count": null,
   "metadata": {},
   "outputs": [],
   "source": [
    "# Структура вывода\n",
    "df_result_3 = pnd.DataFrame(\"Значение\", \n",
    "                            columns = [\"Индекс реальной зарплаты\"], \n",
    "                            index = range(2003, 2015))\n",
    "\n",
    "df_result_3"
   ]
  },
  {
   "cell_type": "markdown",
   "metadata": {},
   "source": [
    "<p><b>Задача 4.</b> Отобразить все три индекса на одном графике</p>"
   ]
  },
  {
   "cell_type": "code",
   "execution_count": null,
   "metadata": {},
   "outputs": [],
   "source": [
    "# Структура вывода\n",
    "df_result_4 = pnd.DataFrame(\"Значение\", \n",
    "                            columns = [\"Индекс номинальной зарплаты\", \n",
    "                                       \"Индекс потребительских цен\", \n",
    "                                       \"Индекс реальной зарплаты\"], \n",
    "                            index = range(2003, 2015))\n",
    "\n",
    "df_result_4"
   ]
  },
  {
   "cell_type": "markdown",
   "metadata": {},
   "source": [
    "<a name=\"2\"></a>\n",
    "<div style=\"display:table; width:100%; padding-top:10px; padding-bottom:10px; border-bottom:1px solid lightgrey\">\n",
    "    <div style=\"display:table-row\">\n",
    "        <div style=\"display:table-cell; width:80%; font-size:14pt; font-weight:bold\">2. Варианты</div>\n",
    "    \t<div style=\"display:table-cell; width:20%; text-align:center; background-color:whitesmoke; border:1px solid lightgrey\"><a href=\"#0\">К содержанию</a></div>\n",
    "    </div>\n",
    "</div>"
   ]
  },
  {
   "cell_type": "markdown",
   "metadata": {},
   "source": [
    "<p>Чтобы узнать свой вариант, введите Вашу фамилию в соответствующее поле ниже и запустите ячейку:</p>"
   ]
  },
  {
   "cell_type": "code",
   "execution_count": null,
   "metadata": {},
   "outputs": [],
   "source": [
    "surname = \"Иванов\"  # Ваша фамилия\n",
    "\n",
    "alph = 'абвгдеёжзийклмнопрстуфхцчшщъыьэюя'\n",
    "w = [6, 31, 38, 29, 29, 20, 16,  4, 34,  3, 39, 33, 36, 33, 20,  3, 22,\n",
    "       31,  3, 34, 16, 25, 25, 25, 23, 13, 35, 19, 20, 26, 34, 39,  8]\n",
    "d = dict(zip(alph, w))\n",
    "variant =  sum([d[el] for el in surname.lower()]) % 9 + 1\n",
    "print(\"Ваш вариант - \", variant)"
   ]
  },
  {
   "cell_type": "markdown",
   "metadata": {},
   "source": [
    "<p>Задание необходимо выполнить в соответствии с вариантом. Соотнесение вариантов и округов, субъектов РФ для расчета следующее:<br>\n",
    "<ol>\n",
    "<li>Российская Федерация</li>\n",
    "<li>Центральный федеральный округ</li>\n",
    "<li>г.Москва</li>\n",
    "<li>Северо-Западный федеральный округ</li>\n",
    "<li>Северо-Кавказский федеральный округ</li>\n",
    "<li>Приволжский федеральный округ</li>\n",
    "<li>Ханты-Мансийский автономный округ-Югра</li>\n",
    "<li>Сибирский федеральный округ</li>\n",
    "<li>Дальневосточный федеральный округ</li>\n",
    "</ol>\n",
    "</p>"
   ]
  },
  {
   "cell_type": "code",
   "execution_count": null,
   "metadata": {
    "collapsed": true
   },
   "outputs": [],
   "source": []
  }
 ],
 "metadata": {
  "kernelspec": {
   "name": "python3",
   "language": "python",
   "display_name": "Python 3"
  },
  "language_info": {
   "codemirror_mode": {
    "name": "ipython",
    "version": 3
   },
   "file_extension": ".py",
   "mimetype": "text/x-python",
   "name": "python",
   "nbconvert_exporter": "python",
   "pygments_lexer": "ipython3",
   "version": "3.6.7"
  }
 },
 "nbformat": 4,
 "nbformat_minor": 2
}